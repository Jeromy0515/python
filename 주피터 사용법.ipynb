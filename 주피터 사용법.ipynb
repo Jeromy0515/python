{
 "cells": [
  {
   "cell_type": "code",
   "execution_count": 29,
   "metadata": {},
   "outputs": [
    {
     "name": "stdout",
     "output_type": "stream",
     "text": [
      "crtl+Enter = 실행\n"
     ]
    }
   ],
   "source": [
    "print('crtl+Enter = 실행')"
   ]
  },
  {
   "cell_type": "code",
   "execution_count": 25,
   "metadata": {},
   "outputs": [
    {
     "name": "stdout",
     "output_type": "stream",
     "text": [
      "shift+Enter = 실행후 아래 셀로 이동/아래 셀이 없을 시 셀 추가\n"
     ]
    }
   ],
   "source": [
    "print('shift+Enter = 실행후 아래 셀로 이동/아래 셀이 없을 시 셀 추가')"
   ]
  },
  {
   "cell_type": "code",
   "execution_count": 26,
   "metadata": {},
   "outputs": [
    {
     "name": "stdout",
     "output_type": "stream",
     "text": [
      "Alt+Enter = 실행 후 무조건 셀 추가\n"
     ]
    }
   ],
   "source": [
    "print('Alt+Enter = 실행 후 무조건 셀 추가')"
   ]
  },
  {
   "cell_type": "code",
   "execution_count": 27,
   "metadata": {
    "scrolled": true
   },
   "outputs": [
    {
     "name": "stdout",
     "output_type": "stream",
     "text": [
      "A = Command Mode 에서 위 셀 추가\n"
     ]
    }
   ],
   "source": [
    "print('A = Command Mode 에서 위 셀 추가')"
   ]
  },
  {
   "cell_type": "code",
   "execution_count": 28,
   "metadata": {},
   "outputs": [
    {
     "name": "stdout",
     "output_type": "stream",
     "text": [
      "B = Command Mode 에서 아래 셀 추가\n"
     ]
    }
   ],
   "source": [
    "print('B = Command Mode 에서 아래 셀 추가')"
   ]
  },
  {
   "cell_type": "markdown",
   "metadata": {},
   "source": [
    "# 메모장(Markdown)(Command Mode에서 m)"
   ]
  }
 ],
 "metadata": {
  "kernelspec": {
   "display_name": "Python 3",
   "language": "python",
   "name": "python3"
  },
  "language_info": {
   "codemirror_mode": {
    "name": "ipython",
    "version": 3
   },
   "file_extension": ".py",
   "mimetype": "text/x-python",
   "name": "python",
   "nbconvert_exporter": "python",
   "pygments_lexer": "ipython3",
   "version": "3.8.5"
  }
 },
 "nbformat": 4,
 "nbformat_minor": 4
}
